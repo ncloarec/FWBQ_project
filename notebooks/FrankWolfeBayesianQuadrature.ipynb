{
 "cells": [
  {
   "cell_type": "code",
   "execution_count": null,
   "metadata": {
    "collapsed": true
   },
   "outputs": [],
   "source": [
    "import numpy as np\n",
    "from scipy import stats, random\n",
    "from mpl_toolkits.mplot3d import Axes3D\n",
    "import matplotlib.pyplot as plt\n",
    "import pandas as pd\n",
    "import seaborn as sns\n",
    "from pandas_datareader import data\n",
    "from math import exp, log, pi, sqrt, cos, sin\n",
    "from copy import copy\n",
    "from matplotlib import pyplot as plt\n",
    "from matplotlib import cm\n",
    "%matplotlib inline\n",
    "import warnings\n",
    "warnings.filterwarnings('ignore')"
   ]
  },
  {
   "cell_type": "code",
   "execution_count": null,
   "metadata": {
    "collapsed": true
   },
   "outputs": [],
   "source": [
    "# univariate and multivariate normal probability density function\n",
    "univariatepdf = stats.norm.pdf\n",
    "multivariatepdf = stats.multivariate_normal.pdf"
   ]
  },
  {
   "cell_type": "code",
   "execution_count": null,
   "metadata": {
    "collapsed": true
   },
   "outputs": [],
   "source": [
    "# dimension = dim\n",
    "dim = 2"
   ]
  },
  {
   "cell_type": "code",
   "execution_count": null,
   "metadata": {
    "collapsed": true
   },
   "outputs": [],
   "source": [
    "# parameters of the probability density function p\n",
    "numberofgaussians = 20\n",
    "mixweights = stats.norm.rvs(loc = 5, size = numberofgaussians)\n",
    "mixweights = mixweights/np.sum(mixweights)\n",
    "# print(\"mixweights =\", mixweights)\n",
    "mixmus = [ np.array(stats.norm.rvs(scale = 10, size = 2)) for x in range(numberofgaussians) ]\n",
    "# print(\"mixmus =\", mixmus)\n",
    "randommatrices = [ np.array([[np.random.random()+2.0, np.random.random()*0.2],\n",
    "                             [np.random.random()*0.2, np.random.random()+2.0]]) for x in range(numberofgaussians) ]\n",
    "mixsigmas = [ np.dot(randommatrices[x],randommatrices[x].transpose()) for x in range(numberofgaussians) ]\n",
    "# print(\"mixsigmas =\", mixsigmas)\n",
    "\n",
    "# print(np.min(mixmus), np.max(mixmus))\n"
   ]
  },
  {
   "cell_type": "code",
   "execution_count": null,
   "metadata": {
    "collapsed": true
   },
   "outputs": [],
   "source": [
    "# # parameters of the probability density function p\n",
    "# mixmus = [\n",
    "#     np.array([5.443438, 3.097593]),\n",
    "#     np.array([-5.592092, -2.150316])\n",
    "# ]\n",
    "# mixsigmas = [\n",
    "#     np.array([[6.761966, 1.400297], [1.400297, 7.058602]]),\n",
    "#     np.array([[5.6483550, 0.4685284], [0.4685284, 9.2519292]])\n",
    "# ]\n",
    "# mixweights = [\n",
    "#     0.465227,\n",
    "#     0.534773\n",
    "# ]"
   ]
  },
  {
   "cell_type": "code",
   "execution_count": null,
   "metadata": {
    "collapsed": true
   },
   "outputs": [],
   "source": [
    "# sample according to p\n",
    "def sample(mixmus, mixsigmas, mixweights, n):\n",
    "    indexes = np.random.choice(len(mixweights), size=n, p=mixweights)\n",
    "    A = np.zeros((n, dim))\n",
    "    for i, ix in enumerate(indexes):\n",
    "        A[i, :] = stats.multivariate_normal.rvs(mixmus[ix], mixsigmas[ix])\n",
    "    return A"
   ]
  },
  {
   "cell_type": "code",
   "execution_count": null,
   "metadata": {
    "collapsed": true
   },
   "outputs": [],
   "source": [
    "samplepoints = sample(mixmus, mixsigmas, mixweights, 4000)\n",
    "\n",
    "X1 = samplepoints[:,0]\n",
    "Y1 = samplepoints[:,1]\n",
    "\n",
    "fig = plt.figure(figsize = (10, 10))\n",
    "# create a cubehelix colormap to use with kdeplot\n",
    "cmap = sns.cubehelix_palette(as_cmap=True)\n",
    "# plot\n",
    "sns.kdeplot(X1, Y1, cmap=cmap, shade=False, cut=2, n_levels=20)\n",
    "plt.savefig(\"plot-simulation-kde.png\", dpi = 100, bbox_inches =\"tight\")\n",
    "plt.show()\n"
   ]
  },
  {
   "cell_type": "code",
   "execution_count": null,
   "metadata": {
    "collapsed": true
   },
   "outputs": [],
   "source": [
    "# function f\n",
    "def f(x):\n",
    "    cov = np.eye(dim)\n",
    "    mu = np.array([8,5])\n",
    "    cov = np.eye(dim) * 10\n",
    "    a = (np.sqrt(2*pi))**(dim) * multivariatepdf(x.ravel(), mu.ravel(), cov)\n",
    "    mu = np.array([-5,8])\n",
    "    cov = np.eye(dim) * 10\n",
    "    b = (np.sqrt(2*pi))**(dim) * multivariatepdf(x.ravel(), mu.ravel(), cov)\n",
    "    mu = np.array([2, -8])\n",
    "    cov = np.eye(dim) * 10\n",
    "    c = (np.sqrt(2*pi))**(dim) * multivariatepdf(x.ravel(), mu.ravel(), cov)\n",
    "    # a1 = np.array([cos(s/1000) for s in x.ravel()])\n",
    "    # a2 = np.array([sin(s/1000) for s in x.ravel()]).transpose()\n",
    "    return( 100 * (a * 1.2 + b * 0.8 + c) )"
   ]
  },
  {
   "cell_type": "code",
   "execution_count": null,
   "metadata": {
    "collapsed": true
   },
   "outputs": [],
   "source": [
    "# example, draw 10 points according to p\n",
    "X = sample(mixmus = mixmus, mixsigmas = mixsigmas, mixweights = mixweights, n = 10)\n",
    "for i in range(X.shape[0]):\n",
    "    print(X[i,:], f(X[i,:]))\n",
    "    "
   ]
  },
  {
   "cell_type": "code",
   "execution_count": null,
   "metadata": {
    "collapsed": true
   },
   "outputs": [],
   "source": [
    "number = 80\n",
    "\n",
    "# samplepoints = sample(mixmus, mixsigmas, mixweights, number)\n",
    "\n",
    "x = np.linspace(num = number, start = -18, stop = 18)\n",
    "y = np.linspace(num = number, start = -18, stop = 18)\n",
    "\n",
    "X, Y = np.meshgrid(x, y)\n",
    "Z = np.zeros(X.shape)\n",
    "s = 0\n",
    "for i in range(Z.shape[0]):\n",
    "    for j in range(Z.shape[1]):\n",
    "        s += 1\n",
    "        print(\"{0} / {1}\".format(s, number*number), end = '\\r')\n",
    "        x = X[i][j]\n",
    "        y = Y[i][j]\n",
    "        Z[i][j] = f(np.array([x, y]))\n"
   ]
  },
  {
   "cell_type": "code",
   "execution_count": null,
   "metadata": {
    "collapsed": true
   },
   "outputs": [],
   "source": [
    "fig = plt.figure(figsize = (16, 10))\n",
    "ax = fig.gca(projection = \"3d\")\n",
    "\n",
    "plt.title(\" \")\n",
    "surf = ax.plot_surface(X, Y, Z, cmap = cm.plasma, linewidth = 1, antialiased = False, rcount = 80, ccount = 80)\n",
    "# fig.colorbar(surf, shrink=0.5, aspect=10)\n",
    "ax.view_init(azim=45, elev=30)\n",
    "plt.savefig(\"plot-simulation-3d-function.png\", dpi = 100, bbox_inches =\"tight\")\n",
    "\n",
    "plt.show()"
   ]
  },
  {
   "cell_type": "markdown",
   "metadata": {},
   "source": [
    "### Monte Carlo integration"
   ]
  },
  {
   "cell_type": "code",
   "execution_count": null,
   "metadata": {
    "collapsed": true
   },
   "outputs": [],
   "source": [
    "n = 5000 # number of points to draw at each iteration\n",
    "m = 1 # number of iterations\n",
    "I = []\n",
    "for i in range(m):\n",
    "    A = 0\n",
    "    for j in range(n):\n",
    "        weight = 1/n\n",
    "        point = sample(mixmus, mixsigmas, mixweights, n = 1)\n",
    "        A += weight*f(point)\n",
    "    I.append(A)\n",
    "print(\"Monte Carlo integration : \", sum(I)/len(I))"
   ]
  },
  {
   "cell_type": "markdown",
   "metadata": {},
   "source": [
    "### Frank-Wolfe Bayesian Quadrature integration"
   ]
  },
  {
   "cell_type": "code",
   "execution_count": null,
   "metadata": {
    "collapsed": true
   },
   "outputs": [],
   "source": [
    "n = 100 # number of points to draw\n",
    "lambda_ = 1\n",
    "sigma_ = 2"
   ]
  },
  {
   "cell_type": "code",
   "execution_count": null,
   "metadata": {
    "collapsed": true
   },
   "outputs": [],
   "source": [
    "# reproducing kernel k (RKHS)\n",
    "def kernel(a, b, lambda_, sigma_):\n",
    "    cov = sigma_**2 * np.eye(dim)\n",
    "    return( lambda_ * lambda_ * (np.sqrt(2*pi)*sigma_)**(dim) * multivariatepdf(a.ravel(), b.ravel(), cov) )"
   ]
  },
  {
   "cell_type": "code",
   "execution_count": null,
   "metadata": {
    "collapsed": true
   },
   "outputs": [],
   "source": [
    "# one-dimensional mean map kernel\n",
    "def simplemeanmapkernel(x, mu, sigma, lambda_, sigma_):\n",
    "    cov = sigma_**2 * np.eye(dim)\n",
    "    # np.linalg.det(sigma) = sigma\n",
    "    # np.linalg.inv(sigma) = sigma\n",
    "    return( lambda_ * lambda_ * (np.sqrt(2*pi)*sigma_)**(dim) * multivariatepdf(x.ravel(), mu.ravel(), sigma + cov) )\n",
    "# two-dimensional mean map kernel\n",
    "def mixturemeanmapkernel(x, mus, sigmas, mixweights, lambda_, sigma_):\n",
    "    mixture = np.array([simplemeanmapkernel(x, mu1, sigma1, lambda_, sigma_) for mu1, sigma1 in zip(mus, sigmas)])\n",
    "    return np.sum(mixweights * mixture)"
   ]
  },
  {
   "cell_type": "code",
   "execution_count": null,
   "metadata": {
    "collapsed": true
   },
   "outputs": [],
   "source": [
    "# canonical feature map for a given x\n",
    "def phi(x, lambda_, sigma_):\n",
    "    def atom(a):\n",
    "        return(kernel(a, x, lambda_, sigma_))\n",
    "    return(atom)\n",
    "# function to compute the successive g\n",
    "def psi(rho, a, b):\n",
    "    def g(x):\n",
    "        return((1-rho) * a(x) + rho * b(x))\n",
    "    return(g)"
   ]
  },
  {
   "cell_type": "code",
   "execution_count": null,
   "metadata": {
    "collapsed": true
   },
   "outputs": [],
   "source": [
    "# define the model\n",
    "\n",
    "# model = \"FWBQ\"\n",
    "model = \"FWLSBQ\""
   ]
  },
  {
   "cell_type": "code",
   "execution_count": null,
   "metadata": {
    "collapsed": true
   },
   "outputs": [],
   "source": [
    "# start for rho, line-search\n",
    "if model == \"FWBQ\":\n",
    "    rho = [1/(i+1) for i in range(0, n)]\n",
    "    print(\"model is FWBQ\")\n",
    "elif model == \"FWLSBQ\":\n",
    "    rho = [1/(i+1) for i in range(0, 1)]\n",
    "    print(\"model is FWLSBQ\")\n",
    "else:\n",
    "    print(\"model has to be either FWLSBQ or FWBQ\")"
   ]
  },
  {
   "cell_type": "code",
   "execution_count": null,
   "metadata": {
    "collapsed": true
   },
   "outputs": [],
   "source": [
    "meanmapkernel = lambda x: mixturemeanmapkernel(x, mixmus, mixsigmas, mixweights, lambda_, sigma_)"
   ]
  },
  {
   "cell_type": "code",
   "execution_count": null,
   "metadata": {
    "collapsed": true
   },
   "outputs": [],
   "source": [
    "# integral of the mean map kernel\n",
    "def integralmeanmapkernel(mixmus, mixsigmas, mixweights, lambda_, sigma_):\n",
    "    cov = sigma_**2 * np.eye(dim)\n",
    "    L = len(mixweights)\n",
    "    c = lambda_ * lambda_ * (np.sqrt(2*pi)*sigma_)**(dim)\n",
    "    a = 0\n",
    "    for i in range(L):\n",
    "        for j in range(L):\n",
    "            a = a + mixweights[i] * mixweights[j] * multivariatepdf(x = mixmus[i].ravel(), mean = mixmus[j].ravel(), cov = mixsigmas[i] + mixsigmas[j] + cov)\n",
    "    return(c * a)"
   ]
  },
  {
   "cell_type": "code",
   "execution_count": null,
   "metadata": {
    "collapsed": true,
    "scrolled": true
   },
   "outputs": [],
   "source": [
    "# step 1 // FW (Frank-Wolfe) algorithm\n",
    "\n",
    "# store information in a dictionary\n",
    "dico = {} # dictionnary to store at each iteration : point(i), weight(i), g(i)\n",
    "i = 1\n",
    "print(\"{0} / {1}\".format(i, n), end = '\\r')\n",
    "W = [np.nan]\n",
    "for l in range(1, i+1):\n",
    "    w = 1\n",
    "    for j in range(l+1, i+1):\n",
    "        w = w * (1-rho[j-1])\n",
    "    w = w * rho[l-1]\n",
    "    W.append(w)\n",
    "X = sample(mixmus, mixsigmas, mixweights, n = 1) # draw the first point randomly\n",
    "dico[i] = {\"point\" : X[0], \"weight\" : W}\n",
    "dico[i][\"function\"] = phi(dico[i][\"point\"], lambda_, sigma_)\n",
    "g = phi(dico[i][\"point\"], lambda_, sigma_)\n",
    "dico[i][\"g\"] = g\n",
    "\n",
    "for i in range(2, n+1):\n",
    "\n",
    "    print(\"{0} / {1}\".format(i, n), end = '\\r')\n",
    "\n",
    "    # step1 ) computing a new point\n",
    "\n",
    "    # T is the function to minimize\n",
    "    def T(x, i, kernel, meanmapkernel):\n",
    "        s = 0\n",
    "        for j in range(1, i):\n",
    "            w = dico[i-1][\"weight\"][j]\n",
    "            c = dico[j][\"point\"]\n",
    "            s = s + ( w * kernel(x, c, lambda_, sigma_) )\n",
    "        s = s - meanmapkernel(x)\n",
    "        return(s)\n",
    "\n",
    "    # samplepoints to find the minimum among them\n",
    "    if i > 1:\n",
    "        samplepoints1 = sample(mixmus, mixsigmas, mixweights, n = 5000)\n",
    "\n",
    "    # start = clock()\n",
    "    # find the minimum X\n",
    "    Xmin = samplepoints1[0]\n",
    "    Tmin = T(x = Xmin, i = i, kernel = kernel, meanmapkernel = meanmapkernel)\n",
    "    for X in samplepoints1:\n",
    "        t = T(x = X, i = i, kernel = kernel, meanmapkernel = meanmapkernel)\n",
    "        if t < Tmin:\n",
    "            Xmin = X\n",
    "            Tmin = t\n",
    "    X = Xmin\n",
    "    # X = samplepoints1[np.argmin([T(x, i, kernel, meanmapkernel) for x in samplepoints1])]\n",
    "    # end = clock()\n",
    "    # print(end - start, \"\\n\")\n",
    "\n",
    "    # step 2 ) computing the weights for the next iteration\n",
    "\n",
    "    if model == \"FWLSBQ\":\n",
    "        # compute the matrix K\n",
    "        K = np.zeros(shape = (i-1, i-1))\n",
    "        for c in range(i-1):\n",
    "            for d in range(i-1):\n",
    "                Xc = dico[c+1][\"point\"]\n",
    "                Xd = dico[d+1][\"point\"]\n",
    "                K[c][d] = kernel(Xc, Xd, lambda_, sigma_)\n",
    "\n",
    "        first = np.dot(np.dot([W[1:]], K), W[1:])\n",
    "        second = 0\n",
    "        weightedmeanmap = 0\n",
    "        for r in range(1, i-1+1):\n",
    "            point = dico[r][\"point\"] # point\n",
    "            weight = W[r] # weight\n",
    "            second += weight * kernel(point, X, lambda_, sigma_)\n",
    "            weightedmeanmap += weight * meanmapkernel(point)\n",
    "        numerator = first - second - weightedmeanmap + meanmapkernel(X)\n",
    "        denominator = first - 2 * second + kernel(X, X, lambda_, sigma_)\n",
    "        rho.append(float(numerator / denominator))\n",
    "\n",
    "    W = [np.nan]\n",
    "    for l in range(1, i+1):\n",
    "        w = 1\n",
    "        for j in range(l+1, i+1):\n",
    "            w = w * (1-rho[j-1])\n",
    "        w = w * rho[l-1]\n",
    "        W.append(w)\n",
    "\n",
    "    dico[i] = {\"point\" : X, \"weight\" : W}\n",
    "    dico[i][\"function\"] = phi(dico[i][\"point\"], lambda_, sigma_)\n",
    "\n",
    "    # step 3 ) computing the mean element\n",
    "    g = psi(rho = rho[-1], a = g, b = dico[i][\"function\"])\n",
    "    dico[i][\"g\"] = g\n"
   ]
  },
  {
   "cell_type": "code",
   "execution_count": null,
   "metadata": {
    "collapsed": true
   },
   "outputs": [],
   "source": [
    "# plot the selected points and the distribution of the probability p\n",
    "\n",
    "selectedpoints = np.matrix(data = np.zeros(n*dim).reshape(n, dim))\n",
    "\n",
    "i = 0\n",
    "for x in dico.items():\n",
    "    selectedpoints[i,:] = x[1][\"point\"]\n",
    "    i = i+1\n",
    "\n",
    "selectedpoints = np.array(selectedpoints)\n",
    "\n",
    "plt.figure(figsize=(10, 10))\n",
    "\n",
    "# samplepoints = sample(mixmus, mixsigmas, mixweights, 4000)\n",
    "X1 = samplepoints[:,0]\n",
    "Y1 = samplepoints[:,1]\n",
    "plt.rcParams[\"figure.figsize\"] = (10, 6)\n",
    "# plt.scatter(X1, Y1, color = \"orange\", s = 6)\n",
    "# create a cubehelix colormap to use with kdeplot\n",
    "cmap = sns.cubehelix_palette(as_cmap=True)\n",
    "# plot\n",
    "sns.kdeplot(X1, Y1, cmap=cmap, shade=False, cut=2, n_levels=20)\n",
    "plt.scatter(selectedpoints[:,0], selectedpoints[:,1], color = \"black\", s=45, zorder=2)\n",
    "\n",
    "plt.savefig(\"plot-simulation-selectedpoints-\"+model+\".png\", dpi = 100, bbox_inches =\"tight\")\n",
    "\n",
    "plt.show()\n"
   ]
  },
  {
   "cell_type": "code",
   "execution_count": null,
   "metadata": {
    "collapsed": true
   },
   "outputs": [],
   "source": [
    "N = 40\n",
    "\n",
    "fig = plt.figure(figsize=(6, 4*6))\n",
    "\n",
    "samplepoints2 = sample(mixmus, mixsigmas, mixweights, 4000)\n",
    "\n",
    "number = N\n",
    "X = np.linspace(num = number, start = np.min(samplepoints2[:,0])-2, stop = np.max(samplepoints2[:,0])+2)\n",
    "Y = np.linspace(num = number, start = np.min(samplepoints2[:,1])-2, stop = np.max(samplepoints2[:,1])+2)\n",
    "# samplepoints = np.array([[a,b] for a, b in zip(x, y)])\n",
    "\n",
    "MX, MY = np.meshgrid(X, Y)\n",
    "Z1 = np.zeros(MX.shape)\n",
    "s = 0\n",
    "for i in range(Z1.shape[0]):\n",
    "    for j in range(Z1.shape[1]):\n",
    "        s += 1\n",
    "        print(\"mean element = {0} / {1}\".format(s, N*N), end = '\\r')\n",
    "        x = MX[i][j]\n",
    "        y = MY[i][j]\n",
    "        Z1[i][j] = meanmapkernel(np.array([x, y]))\n",
    "print(\"calculations for the mean element done !\")\n",
    "\n",
    "k = 0\n",
    "for p in [5, 10, 100]:\n",
    "    \n",
    "    print(\"starting iteration =\", p)\n",
    "    \n",
    "    k += 1\n",
    "    ax = fig.add_subplot(4, 1, k, projection='3d')\n",
    "    Z = np.zeros(MX.shape)\n",
    "    s = 0\n",
    "    for i in range(Z.shape[0]):\n",
    "        for j in range(Z.shape[1]):\n",
    "            s += 1\n",
    "            print(\"{0} / {1}\".format(s, N*N), end = '\\r')\n",
    "            x = MX[i][j]\n",
    "            y = MY[i][j]\n",
    "            g_ = dico[p][\"g\"]\n",
    "            Z[i][j] = g_(np.array([x, y]))\n",
    "    surf = ax.plot_surface(MX, MY, Z, cmap = cm.plasma, linewidth = 0, antialiased = False, rcount = 80, ccount = 80)\n",
    "    ax.set_title(r\"$g_{\"+str(p)+\"}$ (at the at the \"+str(p)+\"-th iteration)\\n\")\n",
    "    ax.view_init(azim=45, elev=30)\n",
    "\n",
    "    # samplepoints = sample(mixmus, mixsigmas, mixweights, N)\n",
    "    # X = sorted(samplepoints[:,0])\n",
    "    # Y = sorted(samplepoints[:,1])\n",
    "    \n",
    "k += 1\n",
    "ax = fig.add_subplot(4, 1, k, projection='3d')\n",
    "ax.plot_surface(MX, MY, Z1, cmap = cm.plasma, linewidth = 0, antialiased = False)\n",
    "ax.set_title(\"mean kernel\\n\")\n",
    "ax.view_init(azim=45, elev=30)\n",
    "\n",
    "plt.savefig(\"plot-simulation-3d-meanelement-\"+model+\".png\", dpi = 100, bbox_inches =\"tight\")\n",
    "\n",
    "plt.show()\n"
   ]
  },
  {
   "cell_type": "code",
   "execution_count": null,
   "metadata": {
    "collapsed": true
   },
   "outputs": [],
   "source": [
    "# step 2 // BQ (Bayesian Quadrature) algorithm\n",
    "\n",
    "# compute the vector Z\n",
    "Z = np.zeros(shape = (n, 1))\n",
    "for i in range(n):\n",
    "    Xi = dico[i+1][\"point\"]\n",
    "    Z[i][0] = meanmapkernel(Xi)\n",
    "\n",
    "# compute the matrix K\n",
    "K = np.zeros(shape = (n, n))\n",
    "for i in range(n):\n",
    "    for j in range(n):\n",
    "        Xi = dico[i+1][\"point\"]\n",
    "        Xj = dico[j+1][\"point\"]\n",
    "        K[i][j] = kernel(Xi, Xj, lambda_, sigma_)\n",
    "# compute the inverse of the matrix K\n",
    "INVK = np.linalg.inv(K)\n",
    "\n",
    "# Frank-Wolfe weights\n",
    "WFW = W[1:]\n",
    "print(\"sum of Frank-Wolfe weights = \", sum(WFW))\n",
    "\n",
    "# Bayesian Quadrature weights\n",
    "WBQ = np.dot(Z.transpose(), INVK)[0]\n",
    "print(\"sum of Bayesian Quadrature weights = \", sum(WBQ))\n"
   ]
  },
  {
   "cell_type": "code",
   "execution_count": null,
   "metadata": {
    "collapsed": true
   },
   "outputs": [],
   "source": [
    "# step 3 // posterior mean, equation (4) in the article\n",
    "\n",
    "# compute the vector F\n",
    "F = np.zeros(shape = (n, 1))\n",
    "for i in range(n):\n",
    "    Xi = dico[i+1][\"point\"]\n",
    "    F[i][0] = f(Xi)\n",
    "\n",
    "# compute the posterior mean\n",
    "mean = np.float(np.dot(np.dot(Z.transpose(), INVK), F))"
   ]
  },
  {
   "cell_type": "code",
   "execution_count": null,
   "metadata": {
    "collapsed": true
   },
   "outputs": [],
   "source": [
    "# step 4 // posterior variance, equation (5) in the article\n",
    "\n",
    "variance1 = integralmeanmapkernel(mixmus = mixmus, mixsigmas = mixsigmas, mixweights = mixweights, lambda_ = lambda_, sigma_ = sigma_)\n",
    "variance2 = np.float(np.dot(np.dot(Z.transpose(), INVK), Z))\n",
    "variance = variance1 - variance2\n"
   ]
  },
  {
   "cell_type": "code",
   "execution_count": null,
   "metadata": {
    "collapsed": true
   },
   "outputs": [],
   "source": [
    "# step 5 // full posterior (normal distribution)\n",
    "\n",
    "plt.rcParams[\"figure.figsize\"] = (10, 6)\n",
    "selectedpoints = np.array(selectedpoints)\n",
    "X_ = np.linspace(start = mean-6*np.sqrt(variance), stop = mean+6*np.sqrt(variance), num = 1000)\n",
    "Y_ = univariatepdf(x = X_, loc = mean, scale = np.sqrt(variance))\n",
    "plt.plot(X_, Y_, color = \"orange\")\n",
    "plt.vlines(x = mean, ymin = 0, ymax = max(Y_), color = \"black\", linestyles = \"dotted\")\n",
    "plt.show()\n"
   ]
  },
  {
   "cell_type": "code",
   "execution_count": null,
   "metadata": {
    "collapsed": true
   },
   "outputs": [],
   "source": [
    "# summary\n",
    "\n",
    "print(\" Monte Carlo integration \\t \\t \\t =\", float(sum(I)/len(I)), \"\\n\",\n",
    "\"Frank-Wolfe integration \\t \\t \\t =\", float(np.float(np.dot(W[1:], F))), \"\\n\",\n",
    "\"Frank-Wolfe Bayesian Quadrature integration \\t =\", float(mean))\n"
   ]
  },
  {
   "cell_type": "code",
   "execution_count": null,
   "metadata": {
    "collapsed": true
   },
   "outputs": [],
   "source": [
    "# compute the vector G\n",
    "G = np.zeros(shape = (n, n))\n",
    "for i in range(n):\n",
    "    print(\"{0} / {1}\".format(i+1, n), end = '\\r')\n",
    "    gi = dico[i+1][\"g\"]\n",
    "    for j in range(i+1):\n",
    "        G[j,i] = gi(dico[j+1][\"point\"])\n",
    "print(G[:4,:4])"
   ]
  },
  {
   "cell_type": "code",
   "execution_count": null,
   "metadata": {
    "collapsed": true
   },
   "outputs": [],
   "source": [
    "# print(F.shape)\n",
    "# print(Z.shape)\n",
    "# print(K.shape)\n",
    "\n",
    "start = 5\n",
    "\n",
    "FWLS_mean = []\n",
    "FWLSBQ_mean = []\n",
    "FWLS_variance = []\n",
    "FWLSBQ_variance = []\n",
    "\n",
    "index = []\n",
    "index.append(start)\n",
    "x = start\n",
    "while x < n+1:\n",
    "    index.append(x)\n",
    "    x += 5\n",
    "    \n",
    "I0 = index\n",
    "    \n",
    "for i in index:\n",
    "    print(\"{0} / {1}\".format(i, n), end = '\\r')\n",
    "    Gi = G[0:i,i-1].reshape(i, 1)\n",
    "    Zi = Z[0:i,:]\n",
    "    Fi = F[0:i,:]\n",
    "    Ki = K[0:i,0:i]\n",
    "    \n",
    "    WeightsFW = dico[i][\"weight\"][1:]\n",
    "    \n",
    "    WeightsBQ = np.dot(Zi.transpose(), np.linalg.inv(Ki))\n",
    "    \n",
    "    MeanFW = np.float(np.dot(WeightsFW, Fi))\n",
    "    \n",
    "    MeanBQ = np.float(np.dot(WeightsBQ, Fi))\n",
    "    \n",
    "#     variance1 = integralmeanmapkernel(mixmus = mixmus, mixsigmas = mixsigmas, mixweights = mixweights, lambda_ = lambda_, sigma_ = sigma_)\n",
    "#     variance2 = np.float(np.dot(WeightsFW, Gi))\n",
    "#     variance = variance1 - variance2\n",
    "    variance = np.sum(np.square(Gi - Zi))\n",
    "    VarianceFW = abs(variance)\n",
    "    \n",
    "    variance1 = integralmeanmapkernel(mixmus = mixmus, mixsigmas = mixsigmas, mixweights = mixweights, lambda_ = lambda_, sigma_ = sigma_)\n",
    "    variance2 = np.float(np.dot(WeightsBQ, Zi))\n",
    "    variance = variance1 - variance2\n",
    "    VarianceFWBQ = abs(variance)\n",
    "    \n",
    "    FWLS_mean.append(MeanFW)\n",
    "    FWLSBQ_mean.append(MeanBQ)\n",
    "    FWLS_variance.append(VarianceFW)\n",
    "    FWLSBQ_variance.append(VarianceFWBQ)\n"
   ]
  },
  {
   "cell_type": "code",
   "execution_count": null,
   "metadata": {
    "collapsed": true
   },
   "outputs": [],
   "source": [
    "plt.rcParams[\"figure.figsize\"] = (16, 6)\n",
    "\n",
    "if model == \"FWBQ\":\n",
    "    algo1 = \"FW\"\n",
    "    algo2 = \"FWBQ\"\n",
    "elif model == \"FWLSBQ\":\n",
    "    algo1 = \"FWLS\"\n",
    "    algo2 = \"FWLSBQ\"\n",
    "\n",
    "plt.subplot(1,2,1)\n",
    "X1 = I0\n",
    "Y1 = FWLS_variance\n",
    "Y2 = FWLSBQ_variance\n",
    "\n",
    "line1, = plt.plot(X1, Y1, color = \"orange\", label = algo1)\n",
    "line2, = plt.plot(X1, Y2, color = \"red\", label = algo2)\n",
    "plt.xlabel(r\"iterations / number of selected points\", fontsize = 14)\n",
    "plt.ylabel(r\"MMD$^2$\", fontsize = 14)\n",
    "plt.legend(handles=[line1, line2], fontsize = 15, loc = 'upper right')\n",
    "\n",
    "plt.subplot(1,2,2)\n",
    "X0 = I0\n",
    "Y0 = FWLSBQ_mean\n",
    "Y01 = FWLSBQ_mean-1.96*np.sqrt(FWLSBQ_variance)\n",
    "Y02 = FWLSBQ_mean+1.96*np.sqrt(FWLSBQ_variance)\n",
    "line0, = plt.plot(X0, Y0, color = \"red\", label = algo2)\n",
    "plt.fill_between(I0, Y01, Y02, color = \"lightgrey\")\n",
    "plt.xlabel(r\"iterations / number of selected points\", fontsize = 14)\n",
    "plt.ylabel(r\"value of the integral\", fontsize = 14)\n",
    "plt.legend(handles=[line0], fontsize = 15, loc = 'lower right')\n",
    "\n",
    "plt.savefig(\"plot-simulation-mmdsquared-value-\"+model+\".png\", dpi = 100, bbox_inches =\"tight\")\n",
    "\n",
    "plt.show()\n"
   ]
  },
  {
   "cell_type": "code",
   "execution_count": null,
   "metadata": {
    "collapsed": true
   },
   "outputs": [],
   "source": []
  }
 ],
 "metadata": {
  "kernelspec": {
   "display_name": "Python 3",
   "language": "python",
   "name": "python3"
  },
  "language_info": {
   "codemirror_mode": {
    "name": "ipython",
    "version": 3
   },
   "file_extension": ".py",
   "mimetype": "text/x-python",
   "name": "python",
   "nbconvert_exporter": "python",
   "pygments_lexer": "ipython3",
   "version": "3.6.3"
  }
 },
 "nbformat": 4,
 "nbformat_minor": 2
}
